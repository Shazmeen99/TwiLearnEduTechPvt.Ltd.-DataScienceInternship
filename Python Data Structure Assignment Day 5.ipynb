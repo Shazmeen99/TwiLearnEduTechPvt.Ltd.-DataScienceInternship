{
 "cells": [
  {
   "cell_type": "markdown",
   "id": "f0b53623",
   "metadata": {
    "id": "jGxqF4aIjNSq"
   },
   "source": [
    "<a id='1'></a><center> <h3 style=\"background-color:orange; color:white\" ><br>Python Data Structures<br></h3>"
   ]
  },
  {
   "cell_type": "markdown",
   "id": "9adaee8f",
   "metadata": {},
   "source": [
    "# `Types of Data Structures:`\n",
    "* `List` | `Tuple`\n",
    "* `Set` | `Dictionary`"
   ]
  },
  {
   "cell_type": "markdown",
   "id": "7c399885",
   "metadata": {},
   "source": [
    "|Data Structures type|Mutable|Comments|Indexing|Ordered|Duplicacy|\n",
    "|----|----|----|----|----|----|\n",
    "tuple ()|immutable|immutable version of list| possible|yes |allowed |\n",
    "list []|mutable|-|possible |yes | allowed |\n",
    "set {}|mutable| -|not |no |not |\n",
    "dict {key:value}|mutable|-|possible |no |not  |"
   ]
  },
  {
   "cell_type": "markdown",
   "id": "f45b7222",
   "metadata": {},
   "source": [
    "💫 `immutable` => `can't be changed` <br>\n",
    "💫 `mutable` => `can be changed`"
   ]
  },
  {
   "cell_type": "code",
   "execution_count": null,
   "id": "eb8de450",
   "metadata": {},
   "outputs": [],
   "source": []
  },
  {
   "cell_type": "markdown",
   "id": "c4abb9e7",
   "metadata": {
    "id": "Tyavi31ZjNSw"
   },
   "source": [
    "## Lists\n",
    "\n"
   ]
  },
  {
   "cell_type": "markdown",
   "id": "6131120e",
   "metadata": {
    "id": "tkDQdRdUjNSy"
   },
   "source": [
    "### Create an empty list with the name ‘a’, print the value of a and type(a).\n"
   ]
  },
  {
   "cell_type": "code",
   "execution_count": 1,
   "id": "35ca53ea",
   "metadata": {
    "id": "a6i4yNGvjNSz"
   },
   "outputs": [],
   "source": [
    "# create empty list, name it 'a'\n",
    "a=[]"
   ]
  },
  {
   "cell_type": "code",
   "execution_count": 2,
   "id": "4f5f1d9a",
   "metadata": {
    "id": "M8FMNQEgjNS0",
    "outputId": "e614518d-cd99-4602-c082-7fcc1f9a0e3a"
   },
   "outputs": [
    {
     "data": {
      "text/plain": [
       "[]"
      ]
     },
     "execution_count": 2,
     "metadata": {},
     "output_type": "execute_result"
    }
   ],
   "source": [
    "# print the value of a\n",
    "a\n"
   ]
  },
  {
   "cell_type": "code",
   "execution_count": 3,
   "id": "0ab29279",
   "metadata": {
    "id": "Jfc9sg1vjNS1",
    "outputId": "462464e7-25c1-4a23-80cb-f8c6cf93fb18"
   },
   "outputs": [
    {
     "name": "stdout",
     "output_type": "stream",
     "text": [
      "<class 'list'>\n"
     ]
    }
   ],
   "source": [
    "# print the type of a\n",
    "print(type(a))"
   ]
  },
  {
   "cell_type": "markdown",
   "id": "6237c62e",
   "metadata": {
    "id": "UNpN9_w4jNS1"
   },
   "source": [
    "### Create a list , languages = ['R','Python', 'SAS', 'Scala', 42], "
   ]
  },
  {
   "cell_type": "code",
   "execution_count": 41,
   "id": "be8ba18a",
   "metadata": {
    "id": "x-TG-vc5jNS2"
   },
   "outputs": [],
   "source": [
    "lang = ['R','Python', 'SAS', 'Scala', 42]"
   ]
  },
  {
   "cell_type": "markdown",
   "id": "3f7b3ea8",
   "metadata": {
    "id": "JDSIK8TbjNS3"
   },
   "source": [
    "Print the number of elements in the list"
   ]
  },
  {
   "cell_type": "code",
   "execution_count": 42,
   "id": "d78dbb93",
   "metadata": {
    "id": "C4lBMaM8jNS3",
    "outputId": "8f553c2e-3d4f-4a3c-ddb3-49b32c4d6fce"
   },
   "outputs": [
    {
     "data": {
      "text/plain": [
       "5"
      ]
     },
     "execution_count": 42,
     "metadata": {},
     "output_type": "execute_result"
    }
   ],
   "source": [
    "len(lang)"
   ]
  },
  {
   "cell_type": "markdown",
   "id": "a6e92c3e",
   "metadata": {
    "id": "EyzO_pcnjNS3"
   },
   "source": [
    "Using for loop iterate and print all the elements in the list"
   ]
  },
  {
   "cell_type": "code",
   "execution_count": 43,
   "id": "03dbd38f",
   "metadata": {
    "id": "TyM54ydsjNS4",
    "outputId": "a83aecf6-2a59-4d56-ee29-d0c3f0711bc4"
   },
   "outputs": [
    {
     "name": "stdout",
     "output_type": "stream",
     "text": [
      "R\n",
      "Python\n",
      "SAS\n",
      "Scala\n",
      "42\n"
     ]
    }
   ],
   "source": [
    "\n",
    "for i in lang:\n",
    "    print(i)\n"
   ]
  },
  {
   "cell_type": "markdown",
   "id": "14fdfa2a",
   "metadata": {
    "id": "eC1fqz9LjNS4"
   },
   "source": [
    "Select the second item, 'Python' and store it in a new variable named 'temp'"
   ]
  },
  {
   "cell_type": "code",
   "execution_count": 44,
   "id": "e1f31934",
   "metadata": {
    "id": "KY0KhRlOjNS4"
   },
   "outputs": [],
   "source": [
    "temp=lang[1]"
   ]
  },
  {
   "cell_type": "markdown",
   "id": "73128a2d",
   "metadata": {
    "id": "breORMa_jNS4"
   },
   "source": [
    "Print the value of temp and type(temp)"
   ]
  },
  {
   "cell_type": "code",
   "execution_count": 45,
   "id": "fb9edb8d",
   "metadata": {
    "id": "MbvX2aIgjNS5",
    "outputId": "f8ec4c46-26d8-4822-c3c7-b18a6cc7f149"
   },
   "outputs": [
    {
     "name": "stdout",
     "output_type": "stream",
     "text": [
      "Python\n",
      "<class 'str'>\n"
     ]
    }
   ],
   "source": [
    "print(temp)\n",
    "\n",
    "print(type(temp))"
   ]
  },
  {
   "cell_type": "markdown",
   "id": "d1ce1c6f",
   "metadata": {
    "id": "I4MrKlAUjNS5"
   },
   "source": [
    "Append the element 'Java' in the list"
   ]
  },
  {
   "cell_type": "code",
   "execution_count": 46,
   "id": "60b83b65",
   "metadata": {
    "id": "rOtqZY6PjNS6"
   },
   "outputs": [
    {
     "data": {
      "text/plain": [
       "['R', 'Python', 'SAS', 'Scala', 42, 'Java']"
      ]
     },
     "execution_count": 46,
     "metadata": {},
     "output_type": "execute_result"
    }
   ],
   "source": [
    "lang.append('Java')\n",
    "lang\n"
   ]
  },
  {
   "cell_type": "markdown",
   "id": "985c8c88",
   "metadata": {
    "id": "ksEn8qvFjNS6"
   },
   "source": [
    "Remove the element 42 from the list and print the list"
   ]
  },
  {
   "cell_type": "code",
   "execution_count": 47,
   "id": "bc16424f",
   "metadata": {
    "id": "Lxuzfc1bjNS6",
    "outputId": "71e5abaf-0020-44d5-af96-9b6f832ce001"
   },
   "outputs": [
    {
     "data": {
      "text/plain": [
       "['R', 'Python', 'SAS', 'Scala', 'Java']"
      ]
     },
     "execution_count": 47,
     "metadata": {},
     "output_type": "execute_result"
    }
   ],
   "source": [
    "lang.remove(42)\n",
    "lang"
   ]
  },
  {
   "cell_type": "markdown",
   "id": "a908b89c",
   "metadata": {
    "id": "19MjI0w6jNS6"
   },
   "source": [
    "### Create a list, colors = [‘Red’, ‘Blue’, ‘White’]"
   ]
  },
  {
   "cell_type": "code",
   "execution_count": 63,
   "id": "3aaf67e5",
   "metadata": {
    "id": "Z1lMzdbWjNS7"
   },
   "outputs": [],
   "source": [
    "colors = ['Red', 'Blue', 'White']"
   ]
  },
  {
   "cell_type": "markdown",
   "id": "ca7ad025",
   "metadata": {
    "id": "VAqLj5R3jNS7"
   },
   "source": [
    "Append the element 'Black' to colors"
   ]
  },
  {
   "cell_type": "code",
   "execution_count": 64,
   "id": "24949f25",
   "metadata": {
    "id": "gvb5iC7ljNS7"
   },
   "outputs": [
    {
     "data": {
      "text/plain": [
       "['Red', 'Blue', 'White', 'Black']"
      ]
     },
     "execution_count": 64,
     "metadata": {},
     "output_type": "execute_result"
    }
   ],
   "source": [
    "colors.append('Black')\n",
    "colors\n",
    "\n"
   ]
  },
  {
   "cell_type": "markdown",
   "id": "1de9da77",
   "metadata": {
    "id": "MFWIzVcvjNS7"
   },
   "source": [
    "Append the color 'Orange' to second position (index=1) and print the list"
   ]
  },
  {
   "cell_type": "code",
   "execution_count": 65,
   "id": "4ec3fecf",
   "metadata": {
    "id": "Fb6YZDSNjNS8"
   },
   "outputs": [],
   "source": [
    "\n",
    "colors.insert(1,'Orange')"
   ]
  },
  {
   "cell_type": "markdown",
   "id": "08b7f5f5",
   "metadata": {
    "id": "8DWB76AOjNS8"
   },
   "source": [
    "Print the list\n"
   ]
  },
  {
   "cell_type": "code",
   "execution_count": 66,
   "id": "4a4ef61d",
   "metadata": {
    "id": "0ldkGCozjNS8",
    "outputId": "0a5cb8e4-f656-4122-b50a-e7716ef09086"
   },
   "outputs": [
    {
     "data": {
      "text/plain": [
       "['Red', 'Orange', 'Blue', 'White', 'Black']"
      ]
     },
     "execution_count": 66,
     "metadata": {},
     "output_type": "execute_result"
    }
   ],
   "source": [
    "colors"
   ]
  },
  {
   "cell_type": "markdown",
   "id": "bb54baa8",
   "metadata": {
    "id": "WfFfxvLKjNS8"
   },
   "source": [
    "Create another list, colors2 = [‘Grey’, ‘Sky Blue’]"
   ]
  },
  {
   "cell_type": "code",
   "execution_count": 67,
   "id": "92905638",
   "metadata": {
    "id": "onZEiwdUjNS8"
   },
   "outputs": [],
   "source": [
    "colors2=['Grey','Sky Blue']"
   ]
  },
  {
   "cell_type": "markdown",
   "id": "08ebf59d",
   "metadata": {
    "id": "MrNQk6uKjNS8"
   },
   "source": [
    "Add the elements of colors2 to colors using extend function in the list"
   ]
  },
  {
   "cell_type": "code",
   "execution_count": 68,
   "id": "1fd3b687",
   "metadata": {
    "id": "Hr1Eu88OjNS9"
   },
   "outputs": [
    {
     "data": {
      "text/plain": [
       "['Red', 'Orange', 'Blue', 'White', 'Black', 'Grey', 'Sky Blue']"
      ]
     },
     "execution_count": 68,
     "metadata": {},
     "output_type": "execute_result"
    }
   ],
   "source": [
    "colors.extend(colors2)\n",
    "colors"
   ]
  },
  {
   "cell_type": "markdown",
   "id": "ee96c24b",
   "metadata": {
    "id": "u0KDeU20jNS9"
   },
   "source": [
    "Print len of colors and its elements"
   ]
  },
  {
   "cell_type": "code",
   "execution_count": 69,
   "id": "bc6e88e5",
   "metadata": {
    "id": "bnBmsCg2jNS9",
    "outputId": "f126519a-bafd-4438-fe21-af7586b5740d"
   },
   "outputs": [
    {
     "data": {
      "text/plain": [
       "7"
      ]
     },
     "execution_count": 69,
     "metadata": {},
     "output_type": "execute_result"
    }
   ],
   "source": [
    "len(colors)\n"
   ]
  },
  {
   "cell_type": "markdown",
   "id": "7235c00c",
   "metadata": {
    "id": "vJ7YqokSjNS9"
   },
   "source": [
    "Sort the list and print it."
   ]
  },
  {
   "cell_type": "code",
   "execution_count": 72,
   "id": "490dace6",
   "metadata": {
    "id": "X14C-1PtjNS9",
    "outputId": "02524dae-3592-47e2-98b0-77501aa15b64"
   },
   "outputs": [
    {
     "data": {
      "text/plain": [
       "['Black', 'Blue', 'Grey', 'Orange', 'Red', 'Sky Blue', 'White']"
      ]
     },
     "execution_count": 72,
     "metadata": {},
     "output_type": "execute_result"
    }
   ],
   "source": [
    "colors.sort()\n",
    "colors\n"
   ]
  },
  {
   "cell_type": "markdown",
   "id": "5c2f698c",
   "metadata": {
    "id": "MdN5B9F9jNS-"
   },
   "source": [
    "### Create a string, sent = ‘Coronavirus Caused Lockdowns Around The World.”"
   ]
  },
  {
   "cell_type": "code",
   "execution_count": 1,
   "id": "0396cd78",
   "metadata": {
    "id": "j4JUR085jNS-"
   },
   "outputs": [
    {
     "data": {
      "text/plain": [
       "'Coronavirus Caused Lockdowns Around The World'"
      ]
     },
     "execution_count": 1,
     "metadata": {},
     "output_type": "execute_result"
    }
   ],
   "source": [
    "st=\"Coronavirus Caused Lockdowns Around The World\"\n",
    "st"
   ]
  },
  {
   "cell_type": "markdown",
   "id": "132cc71f",
   "metadata": {
    "id": "rcn18drOjNS-"
   },
   "source": [
    "Use split function to convert the string into a list of words and save it in variable words and print the same"
   ]
  },
  {
   "cell_type": "code",
   "execution_count": 2,
   "id": "26175927",
   "metadata": {
    "id": "fjiKSboajNS-",
    "outputId": "b6bfb22e-147a-4d90-9428-d321d9824589"
   },
   "outputs": [
    {
     "data": {
      "text/plain": [
       "['Coronavirus', 'Caused', 'Lockdowns', 'Around', 'The', 'World']"
      ]
     },
     "execution_count": 2,
     "metadata": {},
     "output_type": "execute_result"
    }
   ],
   "source": [
    "l=st.split(' ')\n",
    "l"
   ]
  },
  {
   "cell_type": "markdown",
   "id": "b9f421fa",
   "metadata": {
    "id": "rowxhN26jNS_"
   },
   "source": [
    "Convert each word in the list to lower case and store it in variable words_lower. \n",
    "Print words_lower"
   ]
  },
  {
   "cell_type": "code",
   "execution_count": 3,
   "id": "409dc76f",
   "metadata": {
    "id": "LuzAECOVjNS_",
    "outputId": "d2c5bbbe-af46-4659-fdcb-d5de59d24099"
   },
   "outputs": [
    {
     "data": {
      "text/plain": [
       "['coronavirus', 'caused', 'lockdowns', 'around', 'the', 'world']"
      ]
     },
     "execution_count": 3,
     "metadata": {},
     "output_type": "execute_result"
    }
   ],
   "source": [
    "words_lower=[x.lower() for x in l]\n",
    "words_lower"
   ]
  },
  {
   "cell_type": "markdown",
   "id": "28c5be3f",
   "metadata": {
    "id": "zznwP-l9jNS_"
   },
   "source": [
    "Check whether ‘country’ is in the list"
   ]
  },
  {
   "cell_type": "code",
   "execution_count": 4,
   "id": "6048e75f",
   "metadata": {
    "id": "y-U1felnjNS_",
    "outputId": "1e5fb9dd-4add-4438-97da-60db75ce0fce"
   },
   "outputs": [
    {
     "name": "stdout",
     "output_type": "stream",
     "text": [
      "Absent\n"
     ]
    }
   ],
   "source": [
    "if 'country' in words_lower:\n",
    "    print('Yes')\n",
    "else:\n",
    "    print(\"Absent\")"
   ]
  },
  {
   "cell_type": "markdown",
   "id": "8221e918",
   "metadata": {
    "id": "AZMvSVKWjNS_"
   },
   "source": [
    "Remove the element ‘the’ from the list and print the list."
   ]
  },
  {
   "cell_type": "code",
   "execution_count": 5,
   "id": "e9a9431a",
   "metadata": {
    "id": "bmDbpYd7jNS_",
    "outputId": "e96ddeed-af03-4d0c-a7dd-6c7a716e349a"
   },
   "outputs": [
    {
     "data": {
      "text/plain": [
       "['coronavirus', 'caused', 'lockdowns', 'around', 'world']"
      ]
     },
     "execution_count": 5,
     "metadata": {},
     "output_type": "execute_result"
    }
   ],
   "source": [
    "words_lower.remove('the')\n",
    "words_lower\n"
   ]
  },
  {
   "cell_type": "markdown",
   "id": "d6583f26",
   "metadata": {
    "id": "int3gJc0jNS_"
   },
   "source": [
    "Select the first 4 words from the list words_lower using slicing and store them in a new variable x4"
   ]
  },
  {
   "cell_type": "code",
   "execution_count": 6,
   "id": "77f1e03a",
   "metadata": {
    "id": "fXOJmYI1jNTA"
   },
   "outputs": [
    {
     "name": "stdout",
     "output_type": "stream",
     "text": [
      "['coronavirus', 'caused', 'lockdowns', 'around']\n"
     ]
    }
   ],
   "source": [
    "print(words_lower[0:4])"
   ]
  },
  {
   "cell_type": "code",
   "execution_count": 7,
   "id": "6153cc2c",
   "metadata": {
    "id": "2Kb_1V9HjNTA",
    "outputId": "49b4815f-910d-45d2-da69-6be48927e099"
   },
   "outputs": [
    {
     "name": "stdout",
     "output_type": "stream",
     "text": [
      "Coronavirus Caused Lockdowns Around The World\n",
      "Coronavirus Caused Lockdowns Around The World\n",
      "Coronavirus Caused Lockdowns Around The World\n",
      "Coronavirus Caused Lockdowns Around The World\n"
     ]
    }
   ],
   "source": [
    "# print x4\n",
    "\n",
    "for i in range(4):\n",
    "    print(st)"
   ]
  },
  {
   "cell_type": "markdown",
   "id": "4a57ae17",
   "metadata": {
    "id": "3HgP3nUmjNTA"
   },
   "source": [
    "Convert the list of elements to single string using join function and print it"
   ]
  },
  {
   "cell_type": "code",
   "execution_count": 111,
   "id": "18642ad3",
   "metadata": {
    "id": "hiXO7ekhjNTA",
    "outputId": "db0f6673-174f-4bee-f6c5-c7e7d4f4612b"
   },
   "outputs": [
    {
     "data": {
      "text/plain": [
       "'coronavirus caused lockdowns around world'"
      ]
     },
     "execution_count": 111,
     "metadata": {},
     "output_type": "execute_result"
    }
   ],
   "source": [
    "\n",
    "s=' '.join(words_lower)\n",
    "s"
   ]
  },
  {
   "cell_type": "markdown",
   "id": "eb2242a6",
   "metadata": {
    "id": "tW6We_kvjNTA"
   },
   "source": [
    "## Sets"
   ]
  },
  {
   "cell_type": "markdown",
   "id": "54e3b5e3",
   "metadata": {
    "id": "02qkte5xjNTA"
   },
   "source": [
    "### Create stud_grades = ['A','A','B','C','C','F']"
   ]
  },
  {
   "cell_type": "code",
   "execution_count": 112,
   "id": "01090dc1",
   "metadata": {
    "id": "M5P_qZaTjNTB"
   },
   "outputs": [],
   "source": [
    "stud_grades = ['A','A','B','C','C','F']"
   ]
  },
  {
   "cell_type": "markdown",
   "id": "6296d5cc",
   "metadata": {
    "id": "XazCnMcBjNTB"
   },
   "source": [
    "Print the len of stud_grades"
   ]
  },
  {
   "cell_type": "code",
   "execution_count": 113,
   "id": "c7fad363",
   "metadata": {
    "id": "gMMJN-V5jNTB",
    "outputId": "ae1dee90-d009-4230-b7ae-8ea1ee32cbfa"
   },
   "outputs": [
    {
     "data": {
      "text/plain": [
       "6"
      ]
     },
     "execution_count": 113,
     "metadata": {},
     "output_type": "execute_result"
    }
   ],
   "source": [
    "len(stud_grades)\n",
    "\n"
   ]
  },
  {
   "cell_type": "markdown",
   "id": "67b07650",
   "metadata": {
    "id": "ALm7hstGjNTB"
   },
   "source": [
    "Create a new variable, stud_grades_set = set(stud_grades)"
   ]
  },
  {
   "cell_type": "code",
   "execution_count": 114,
   "id": "6a2a9433",
   "metadata": {},
   "outputs": [],
   "source": [
    "stud_grades_set= set(stud_grades)"
   ]
  },
  {
   "cell_type": "code",
   "execution_count": null,
   "id": "d17acf19",
   "metadata": {
    "id": "JJESkQiJjNTB"
   },
   "outputs": [],
   "source": [
    "#### Print stud_grades_set. "
   ]
  },
  {
   "cell_type": "code",
   "execution_count": 116,
   "id": "084e5175",
   "metadata": {
    "id": "Q-daiiLPjNTB",
    "outputId": "9b37d1b8-7765-4564-f706-a4f9482b7368"
   },
   "outputs": [
    {
     "data": {
      "text/plain": [
       "{'A', 'B', 'C', 'F'}"
      ]
     },
     "execution_count": 116,
     "metadata": {},
     "output_type": "execute_result"
    }
   ],
   "source": [
    "stud_grades_set\n"
   ]
  },
  {
   "cell_type": "markdown",
   "id": "62105b39",
   "metadata": {
    "id": "hNeCPwPOjNTC"
   },
   "source": [
    "print the type of stud_grades and stud_grades_set and print their corresponding elements. Try to understand the difference between them."
   ]
  },
  {
   "cell_type": "code",
   "execution_count": 118,
   "id": "4a3691bd",
   "metadata": {
    "id": "g7cntC0ojNTC",
    "outputId": "881a71e0-fd7e-4a3e-c340-95b6e736255a"
   },
   "outputs": [
    {
     "name": "stdout",
     "output_type": "stream",
     "text": [
      "['A', 'A', 'B', 'C', 'C', 'F']\n",
      "The type of of stud_grades is  <class 'list'>\n",
      "{'A', 'C', 'F', 'B'}\n",
      "The type of of stud_grades_set is  <class 'set'>\n"
     ]
    }
   ],
   "source": [
    "print(stud_grades)\n",
    "print(\"The type of of stud_grades is \",type(stud_grades))\n",
    "print(stud_grades_set)\n",
    "print(\"The type of of stud_grades_set is \",type(stud_grades_set))"
   ]
  },
  {
   "cell_type": "markdown",
   "id": "0a4996bf",
   "metadata": {
    "id": "WjzzJX8yjNTC"
   },
   "source": [
    "Add a new element ‘G’ to stud_grades_set"
   ]
  },
  {
   "cell_type": "code",
   "execution_count": 120,
   "id": "d9a0ada6",
   "metadata": {
    "id": "y80DVAlRjNTC"
   },
   "outputs": [
    {
     "data": {
      "text/plain": [
       "{'A', 'B', 'C', 'F', 'G'}"
      ]
     },
     "execution_count": 120,
     "metadata": {},
     "output_type": "execute_result"
    }
   ],
   "source": [
    "stud_grades_set.add('G')\n",
    "stud_grades_set"
   ]
  },
  {
   "cell_type": "markdown",
   "id": "fa60e197",
   "metadata": {
    "id": "4TO9zhSJjNTC"
   },
   "source": [
    "Add element 'F' to stud_grades_set. and print it."
   ]
  },
  {
   "cell_type": "code",
   "execution_count": 121,
   "id": "0eec7d84",
   "metadata": {
    "id": "Bh4tc1zCjNTC",
    "outputId": "67cdce79-7542-4536-8824-7c3f08855f76"
   },
   "outputs": [
    {
     "data": {
      "text/plain": [
       "{'A', 'B', 'C', 'F', 'G'}"
      ]
     },
     "execution_count": 121,
     "metadata": {},
     "output_type": "execute_result"
    }
   ],
   "source": [
    "stud_grades_set.add('F')\n",
    "stud_grades_set\n",
    "\n"
   ]
  },
  {
   "cell_type": "markdown",
   "id": "f13393f6",
   "metadata": {
    "id": "FSgM3DD5jNTD"
   },
   "source": [
    "!!Did you notice? set doesn't add an element if it's already present in it, unlike lists."
   ]
  },
  {
   "cell_type": "markdown",
   "id": "68755368",
   "metadata": {
    "id": "tqz1GBM5jNTD"
   },
   "source": [
    "Remove ‘F’ from stud_grades_set"
   ]
  },
  {
   "cell_type": "code",
   "execution_count": 122,
   "id": "eeb6c202",
   "metadata": {
    "id": "zOLBDdk0jNTD"
   },
   "outputs": [
    {
     "data": {
      "text/plain": [
       "{'A', 'B', 'C', 'G'}"
      ]
     },
     "execution_count": 122,
     "metadata": {},
     "output_type": "execute_result"
    }
   ],
   "source": [
    "\n",
    "stud_grades_set.remove('F')\n",
    "stud_grades_set\n"
   ]
  },
  {
   "cell_type": "markdown",
   "id": "a9137698",
   "metadata": {
    "id": "wxMXywoRjNTD"
   },
   "source": [
    "Print the elements and the length of stud_grades_set"
   ]
  },
  {
   "cell_type": "code",
   "execution_count": 129,
   "id": "400e9008",
   "metadata": {
    "id": "lS582g27jNTD",
    "outputId": "03e846de-16c3-4f74-caf5-b11bb2519b91"
   },
   "outputs": [
    {
     "name": "stdout",
     "output_type": "stream",
     "text": [
      "4\n"
     ]
    }
   ],
   "source": [
    "stud_grades_set\n",
    "\n",
    "print(len(stud_grades_set))"
   ]
  },
  {
   "cell_type": "markdown",
   "id": "e488f589",
   "metadata": {
    "id": "FctCYkNBjNTD"
   },
   "source": [
    "### Create colors = [‘red’,’blue’,’orange’], and fruits = [‘orange’,’grapes’,’apples’] "
   ]
  },
  {
   "cell_type": "code",
   "execution_count": 130,
   "id": "e5585f12",
   "metadata": {},
   "outputs": [],
   "source": [
    "colors=['red','blue','orange']\n",
    "fruits=['orange','grapes','apples']"
   ]
  },
  {
   "cell_type": "markdown",
   "id": "0d429a5b",
   "metadata": {
    "id": "kfIRtvphjNTE"
   },
   "source": [
    "Print color and fruits"
   ]
  },
  {
   "cell_type": "code",
   "execution_count": 134,
   "id": "c5f9275b",
   "metadata": {
    "id": "q-gavK0-jNTE",
    "outputId": "6e0c3843-3efe-4e88-8a19-616e2cf4bdb3"
   },
   "outputs": [
    {
     "name": "stdout",
     "output_type": "stream",
     "text": [
      "['red', 'blue', 'orange']\n",
      "['orange', 'grapes', 'apples']\n"
     ]
    }
   ],
   "source": [
    "print(colors)\n",
    "print(fruits)\n"
   ]
  },
  {
   "cell_type": "markdown",
   "id": "c7f93257",
   "metadata": {
    "id": "uMOTrWwSjNTE"
   },
   "source": [
    "Create colors_set, and fruits_set. (using set() ) and print them"
   ]
  },
  {
   "cell_type": "code",
   "execution_count": 135,
   "id": "a3bebc88",
   "metadata": {},
   "outputs": [
    {
     "name": "stdout",
     "output_type": "stream",
     "text": [
      "{'orange', 'red', 'blue'}\n",
      "{'apples', 'grapes', 'orange'}\n"
     ]
    }
   ],
   "source": [
    "colors_set=set(colors)\n",
    "print(colors_set)\n",
    "\n",
    "fruits_set=set(fruits)\n",
    "print(fruits_set)"
   ]
  },
  {
   "cell_type": "markdown",
   "id": "8147a4b1",
   "metadata": {
    "id": "tW9fj0R1jNTE"
   },
   "source": [
    "Find the union of both the sets."
   ]
  },
  {
   "cell_type": "code",
   "execution_count": 137,
   "id": "0b768347",
   "metadata": {
    "id": "oyskI_CTjNTE",
    "outputId": "4e89c025-10ef-405c-cbd4-f8c1ae2f92b4"
   },
   "outputs": [
    {
     "name": "stdout",
     "output_type": "stream",
     "text": [
      "{'grapes', 'apples', 'red', 'blue', 'orange'}\n"
     ]
    }
   ],
   "source": [
    "print(colors_set.union(fruits_set))\n",
    "\n"
   ]
  },
  {
   "cell_type": "markdown",
   "id": "97aedede",
   "metadata": {
    "id": "3yXYgYBLjNTF"
   },
   "source": [
    "Find the intersection of both the sets "
   ]
  },
  {
   "cell_type": "code",
   "execution_count": 138,
   "id": "51532974",
   "metadata": {
    "id": "3AzYqu5sjNTF",
    "outputId": "01ae145a-f15b-4a20-b9bc-9d8a25cf1679"
   },
   "outputs": [
    {
     "name": "stdout",
     "output_type": "stream",
     "text": [
      "{'orange'}\n"
     ]
    }
   ],
   "source": [
    "print(colors_set.intersection(fruits_set))\n"
   ]
  },
  {
   "cell_type": "markdown",
   "id": "430d9f5c",
   "metadata": {
    "id": "PuhlSjH_jNTF"
   },
   "source": [
    "Find the elements which are Fruits but not colors (using set.difference() )"
   ]
  },
  {
   "cell_type": "code",
   "execution_count": 143,
   "id": "c420cde4",
   "metadata": {
    "id": "gBaxHXrfjNTF",
    "outputId": "2178193f-aae5-4e59-acc1-8bce28e28143"
   },
   "outputs": [
    {
     "name": "stdout",
     "output_type": "stream",
     "text": [
      "{'apples', 'grapes'}\n"
     ]
    }
   ],
   "source": [
    "print(fruits_set.difference(colors_set))\n",
    "\n"
   ]
  },
  {
   "cell_type": "code",
   "execution_count": null,
   "id": "f233a5aa",
   "metadata": {},
   "outputs": [],
   "source": []
  },
  {
   "cell_type": "markdown",
   "id": "34940ee0",
   "metadata": {
    "id": "hLZeBta3jNTF"
   },
   "source": [
    "## TUPLES"
   ]
  },
  {
   "cell_type": "markdown",
   "id": "1ca2909c",
   "metadata": {
    "id": "Nerhdg66jNTF"
   },
   "source": [
    "### Create temp = [17, ’Virat’, 50.0]"
   ]
  },
  {
   "cell_type": "code",
   "execution_count": 163,
   "id": "60be1971",
   "metadata": {},
   "outputs": [],
   "source": [
    "temp = [17, 'Virat', 50.0]"
   ]
  },
  {
   "cell_type": "markdown",
   "id": "122c6c13",
   "metadata": {
    "id": "C0IuMJFijNTG"
   },
   "source": [
    "Iterate through temp and print all the items in temp"
   ]
  },
  {
   "cell_type": "code",
   "execution_count": 164,
   "id": "da185c7f",
   "metadata": {
    "id": "CSKY_cgHjNTG",
    "outputId": "ec834f68-6713-4941-9fc3-dc0e59965222"
   },
   "outputs": [
    {
     "data": {
      "text/plain": [
       "[17, 'Virat', 50.0]"
      ]
     },
     "execution_count": 164,
     "metadata": {},
     "output_type": "execute_result"
    }
   ],
   "source": [
    "temp"
   ]
  },
  {
   "cell_type": "markdown",
   "id": "c84f2e82",
   "metadata": {
    "id": "gI0kBGQ1jNTG"
   },
   "source": [
    "replace first element with 11 in temp"
   ]
  },
  {
   "cell_type": "code",
   "execution_count": 165,
   "id": "c75f98f0",
   "metadata": {
    "id": "p6JCtyOBjNTG"
   },
   "outputs": [
    {
     "data": {
      "text/plain": [
       "[11, 'Virat', 50.0]"
      ]
     },
     "execution_count": 165,
     "metadata": {},
     "output_type": "execute_result"
    }
   ],
   "source": [
    "temp[0]=11\n",
    "temp"
   ]
  },
  {
   "cell_type": "markdown",
   "id": "c56c6b1b",
   "metadata": {
    "id": "JV3b34AdjNTG"
   },
   "source": [
    "Set temp1 = tuple(temp)"
   ]
  },
  {
   "cell_type": "code",
   "execution_count": 166,
   "id": "3038b8ce",
   "metadata": {},
   "outputs": [],
   "source": [
    "temp1=tuple(temp)"
   ]
  },
  {
   "cell_type": "markdown",
   "id": "2a2b4bea",
   "metadata": {
    "id": "Z9LJWgBkjNTG"
   },
   "source": [
    "Iterate through temp1 and print all the items in temp1. "
   ]
  },
  {
   "cell_type": "code",
   "execution_count": 167,
   "id": "00087ac5",
   "metadata": {
    "id": "t0v-FZsNjNTH",
    "outputId": "7f98ae38-8bae-4687-f46b-31fb12ac5c6c"
   },
   "outputs": [
    {
     "data": {
      "text/plain": [
       "(11, 'Virat', 50.0)"
      ]
     },
     "execution_count": 167,
     "metadata": {},
     "output_type": "execute_result"
    }
   ],
   "source": [
    "temp1\n",
    "\n"
   ]
  },
  {
   "cell_type": "markdown",
   "id": "2c4eeb29",
   "metadata": {
    "id": "A4FXMQDfjNTH"
   },
   "source": [
    "replace first element with 17 in temp1"
   ]
  },
  {
   "cell_type": "code",
   "execution_count": 168,
   "id": "c4e4f1c0",
   "metadata": {
    "id": "eioDSdW8jNTH",
    "outputId": "bf108fa6-bcad-4684-dc24-b9efbfc357a8"
   },
   "outputs": [
    {
     "ename": "TypeError",
     "evalue": "'tuple' object does not support item assignment",
     "output_type": "error",
     "traceback": [
      "\u001b[1;31m---------------------------------------------------------------------------\u001b[0m",
      "\u001b[1;31mTypeError\u001b[0m                                 Traceback (most recent call last)",
      "\u001b[1;32m~\\AppData\\Local\\Temp/ipykernel_2996/2252141541.py\u001b[0m in \u001b[0;36m<module>\u001b[1;34m\u001b[0m\n\u001b[1;32m----> 1\u001b[1;33m \u001b[0mtemp1\u001b[0m\u001b[1;33m[\u001b[0m\u001b[1;36m0\u001b[0m\u001b[1;33m]\u001b[0m\u001b[1;33m=\u001b[0m\u001b[1;36m17\u001b[0m\u001b[1;33m\u001b[0m\u001b[1;33m\u001b[0m\u001b[0m\n\u001b[0m\u001b[0;32m      2\u001b[0m \u001b[0mtemp1\u001b[0m\u001b[1;33m\u001b[0m\u001b[1;33m\u001b[0m\u001b[0m\n",
      "\u001b[1;31mTypeError\u001b[0m: 'tuple' object does not support item assignment"
     ]
    }
   ],
   "source": [
    "temp1[0]=17\n",
    "temp1"
   ]
  },
  {
   "cell_type": "markdown",
   "id": "85257aa2",
   "metadata": {
    "id": "IuGIObFZjNTH"
   },
   "source": [
    "<b>Oops!! You got an error. Hey Don't worry! Its because Once a tuple is created, you cannot change its values unlike list.</b>"
   ]
  },
  {
   "cell_type": "markdown",
   "id": "985c73a8",
   "metadata": {
    "id": "ExB_cM1ZjNTH"
   },
   "source": [
    "### Create city = (\"Bangalore\", 28.9949521, 72)"
   ]
  },
  {
   "cell_type": "code",
   "execution_count": 169,
   "id": "c23847bd",
   "metadata": {
    "id": "fWz52DjjjNTH"
   },
   "outputs": [],
   "source": [
    "city = (\"Bangalore\", 28.9949521, 72)"
   ]
  },
  {
   "cell_type": "markdown",
   "id": "893aebfd",
   "metadata": {
    "id": "v4ipyqXsjNTH"
   },
   "source": [
    "Print first element of city"
   ]
  },
  {
   "cell_type": "code",
   "execution_count": 171,
   "id": "457e24f7",
   "metadata": {
    "id": "KJHMuFk1jNTI",
    "outputId": "f3915b36-1f5b-4ac1-e2bb-a53f9ce142f8"
   },
   "outputs": [
    {
     "data": {
      "text/plain": [
       "'Bangalore'"
      ]
     },
     "execution_count": 171,
     "metadata": {},
     "output_type": "execute_result"
    }
   ],
   "source": [
    "city[0]"
   ]
  },
  {
   "cell_type": "markdown",
   "id": "c929c9c5",
   "metadata": {
    "id": "N5FoHg4ujNTI"
   },
   "source": [
    "Create city2 = (‘Chennai’, 30.01, 74)"
   ]
  },
  {
   "cell_type": "code",
   "execution_count": 173,
   "id": "63199931",
   "metadata": {
    "id": "fYuGqbDEjNTI"
   },
   "outputs": [],
   "source": [
    "city2 = ('Chennai', 30.01, 74)"
   ]
  },
  {
   "cell_type": "markdown",
   "id": "c8d626ac",
   "metadata": {
    "id": "0gz-HACUjNTI"
   },
   "source": [
    "Create cities which consist of city and city2"
   ]
  },
  {
   "cell_type": "code",
   "execution_count": 175,
   "id": "d51c939d",
   "metadata": {
    "id": "5dTN1LQPjNTI"
   },
   "outputs": [],
   "source": [
    "cities=city+city2"
   ]
  },
  {
   "cell_type": "markdown",
   "id": "4ce05428",
   "metadata": {
    "id": "He-teRi2jNTI"
   },
   "source": [
    "Print cities"
   ]
  },
  {
   "cell_type": "code",
   "execution_count": 176,
   "id": "7f758d2c",
   "metadata": {
    "id": "ISySNfxGjNTI",
    "outputId": "bee231a2-a635-496f-b5b7-57795a0fd7ab"
   },
   "outputs": [
    {
     "data": {
      "text/plain": [
       "('Bangalore', 28.9949521, 72, 'Chennai', 30.01, 74)"
      ]
     },
     "execution_count": 176,
     "metadata": {},
     "output_type": "execute_result"
    }
   ],
   "source": [
    "cities"
   ]
  },
  {
   "cell_type": "markdown",
   "id": "f36eefb9",
   "metadata": {
    "id": "brFx6-rtjNTJ"
   },
   "source": [
    "Print type of first element in cities"
   ]
  },
  {
   "cell_type": "code",
   "execution_count": 177,
   "id": "63a49830",
   "metadata": {
    "id": "CmIifGybjNTJ",
    "outputId": "085cb498-1027-4ce6-8803-904d39050a97"
   },
   "outputs": [
    {
     "data": {
      "text/plain": [
       "str"
      ]
     },
     "execution_count": 177,
     "metadata": {},
     "output_type": "execute_result"
    }
   ],
   "source": [
    "type(cities[0])"
   ]
  },
  {
   "cell_type": "markdown",
   "id": "18588da2",
   "metadata": {
    "id": "jtk8J_yHjNTJ"
   },
   "source": [
    "print the type of cities\n"
   ]
  },
  {
   "cell_type": "code",
   "execution_count": 178,
   "id": "8c89498a",
   "metadata": {
    "id": "y9rdG29XjNTJ",
    "outputId": "2d1e34cb-5b76-44b4-e806-9287ee31fa87"
   },
   "outputs": [
    {
     "data": {
      "text/plain": [
       "tuple"
      ]
     },
     "execution_count": 178,
     "metadata": {},
     "output_type": "execute_result"
    }
   ],
   "source": [
    "type(cities)"
   ]
  },
  {
   "cell_type": "markdown",
   "id": "03771901",
   "metadata": {
    "id": "uXHSadWqjNTJ"
   },
   "source": [
    "Hey that implies you made a nested tuples!!"
   ]
  },
  {
   "cell_type": "markdown",
   "id": "a2c359ba",
   "metadata": {
    "id": "zViY-S_djNTJ"
   },
   "source": [
    "## DICTIONARY"
   ]
  },
  {
   "cell_type": "markdown",
   "id": "8acf490e",
   "metadata": {
    "id": "4NjUxRaZjNTK"
   },
   "source": [
    "### Create a dictionary d = {\"actor\":\"amir\",\"animal\":\"cat\",\"earth\":2,\"list\":[23,32,12]}"
   ]
  },
  {
   "cell_type": "code",
   "execution_count": 2,
   "id": "9fa6ee89",
   "metadata": {
    "id": "UCtEFPI4jNTK"
   },
   "outputs": [],
   "source": [
    "d = {\"actor\":\"amir\",\"animal\":\"cat\",\"earth\":2,\"list\":[23,32,12]}"
   ]
  },
  {
   "cell_type": "markdown",
   "id": "ad56e160",
   "metadata": {
    "id": "OamenDk8jNTK"
   },
   "source": [
    "Print the value of d[0]"
   ]
  },
  {
   "cell_type": "code",
   "execution_count": 3,
   "id": "e700d5c9",
   "metadata": {
    "id": "gion3awcjNTK",
    "outputId": "59a88b33-f80a-4448-8c92-262c242ca689"
   },
   "outputs": [
    {
     "ename": "KeyError",
     "evalue": "0",
     "output_type": "error",
     "traceback": [
      "\u001b[1;31m---------------------------------------------------------------------------\u001b[0m",
      "\u001b[1;31mKeyError\u001b[0m                                  Traceback (most recent call last)",
      "\u001b[1;32m~\\AppData\\Local\\Temp/ipykernel_5344/1089268471.py\u001b[0m in \u001b[0;36m<module>\u001b[1;34m\u001b[0m\n\u001b[1;32m----> 1\u001b[1;33m \u001b[0md\u001b[0m\u001b[1;33m[\u001b[0m\u001b[1;36m0\u001b[0m\u001b[1;33m]\u001b[0m\u001b[1;33m\u001b[0m\u001b[1;33m\u001b[0m\u001b[0m\n\u001b[0m",
      "\u001b[1;31mKeyError\u001b[0m: 0"
     ]
    }
   ],
   "source": [
    "d[0]"
   ]
  },
  {
   "cell_type": "markdown",
   "id": "a6b50950",
   "metadata": {
    "id": "XYtrrUigjNTK"
   },
   "source": [
    "<b>Oops!! again an error. again a fun fact. Dictionary return the value for key if key is in the dictionary, else throws KeyError\n",
    "and we don't have key 0 here :( </b>"
   ]
  },
  {
   "cell_type": "markdown",
   "id": "daebb4cb",
   "metadata": {
    "id": "62VXYnw1jNTK"
   },
   "source": [
    "Store the value of d[‘actor’] to a new variable actor."
   ]
  },
  {
   "cell_type": "code",
   "execution_count": 14,
   "id": "603d050a",
   "metadata": {
    "id": "kkBfNz81jNTK"
   },
   "outputs": [
    {
     "data": {
      "text/plain": [
       "'amir'"
      ]
     },
     "execution_count": 14,
     "metadata": {},
     "output_type": "execute_result"
    }
   ],
   "source": [
    "actor=d['actor']\n",
    "actor"
   ]
  },
  {
   "cell_type": "markdown",
   "id": "1213fb25",
   "metadata": {
    "id": "uFfuF569jNTL"
   },
   "source": [
    "Print the type of actor"
   ]
  },
  {
   "cell_type": "code",
   "execution_count": 5,
   "id": "bb556579",
   "metadata": {
    "id": "bKbFXBxyjNTL",
    "outputId": "ec200684-a8ac-403e-9aea-ca06a015a12e"
   },
   "outputs": [
    {
     "data": {
      "text/plain": [
       "str"
      ]
     },
     "execution_count": 5,
     "metadata": {},
     "output_type": "execute_result"
    }
   ],
   "source": [
    "type(actor)"
   ]
  },
  {
   "cell_type": "markdown",
   "id": "60a3a82a",
   "metadata": {
    "id": "y549qN04jNTL"
   },
   "source": [
    "Store the value of d[‘list’] in new variable List. "
   ]
  },
  {
   "cell_type": "code",
   "execution_count": 15,
   "id": "19626b01",
   "metadata": {
    "id": "I7GyOK8DjNTL"
   },
   "outputs": [
    {
     "data": {
      "text/plain": [
       "[23, 32, 12]"
      ]
     },
     "execution_count": 15,
     "metadata": {},
     "output_type": "execute_result"
    }
   ],
   "source": [
    "List=d['list']\n",
    "List"
   ]
  },
  {
   "cell_type": "markdown",
   "id": "a0b4eab9",
   "metadata": {
    "id": "Ul1YMiuNjNTL"
   },
   "source": [
    "Print the type of List. "
   ]
  },
  {
   "cell_type": "code",
   "execution_count": 9,
   "id": "54c77167",
   "metadata": {
    "id": "V0VdG9y_jNTL",
    "outputId": "ca19430d-bd1d-456a-cb91-c156f73fe9b1"
   },
   "outputs": [
    {
     "data": {
      "text/plain": [
       "list"
      ]
     },
     "execution_count": 9,
     "metadata": {},
     "output_type": "execute_result"
    }
   ],
   "source": [
    "type(List)"
   ]
  },
  {
   "cell_type": "markdown",
   "id": "431ab306",
   "metadata": {
    "id": "A0CEMABhjNTL"
   },
   "source": [
    "Create d1 = { ‘singer’ : ‘Kr$na’ , ‘album’: ‘Still here’, ‘genre’ : ‘hip-hop’}"
   ]
  },
  {
   "cell_type": "code",
   "execution_count": 13,
   "id": "18dd6fa2",
   "metadata": {
    "id": "FCGCw5FEjNTL"
   },
   "outputs": [],
   "source": [
    "d1 = { 'singer' : 'Kr$na' , 'album': 'Still here', 'genre' : 'hip-hop'}"
   ]
  },
  {
   "cell_type": "markdown",
   "id": "6306bd0d",
   "metadata": {
    "id": "ybGIILrLjNTM"
   },
   "source": [
    "Merge d1 into d."
   ]
  },
  {
   "cell_type": "code",
   "execution_count": 23,
   "id": "34a97103",
   "metadata": {
    "id": "UmDbbQJPjNTM"
   },
   "outputs": [],
   "source": [
    "d.update(d1)"
   ]
  },
  {
   "cell_type": "markdown",
   "id": "115923eb",
   "metadata": {
    "id": "jhAPX45ZjNTM"
   },
   "source": [
    "print d"
   ]
  },
  {
   "cell_type": "code",
   "execution_count": 24,
   "id": "37af7968",
   "metadata": {
    "id": "785S26ryjNTM",
    "outputId": "82043717-4c5e-4622-8e11-f13d74dd5cc4"
   },
   "outputs": [
    {
     "data": {
      "text/plain": [
       "{'actor': 'amir',\n",
       " 'animal': 'cat',\n",
       " 'earth': 2,\n",
       " 'list': [23, 32, 12],\n",
       " 'singer': 'Kr$na',\n",
       " 'album': 'Still here',\n",
       " 'genre': 'hip-hop'}"
      ]
     },
     "execution_count": 24,
     "metadata": {},
     "output_type": "execute_result"
    }
   ],
   "source": [
    "d"
   ]
  },
  {
   "cell_type": "markdown",
   "id": "580c94f0",
   "metadata": {
    "id": "9E852mY2jNTM"
   },
   "source": [
    "Print all the keys in d"
   ]
  },
  {
   "cell_type": "code",
   "execution_count": 25,
   "id": "c380c9f0",
   "metadata": {
    "id": "7K843OrLjNTM",
    "outputId": "4336a57d-eabe-47a7-d910-82c5c8614754"
   },
   "outputs": [
    {
     "data": {
      "text/plain": [
       "dict_keys(['actor', 'animal', 'earth', 'list', 'singer', 'album', 'genre'])"
      ]
     },
     "execution_count": 25,
     "metadata": {},
     "output_type": "execute_result"
    }
   ],
   "source": [
    "d.keys()"
   ]
  },
  {
   "cell_type": "markdown",
   "id": "f3b25811",
   "metadata": {
    "id": "fiuzxbGkjNTN"
   },
   "source": [
    "Print all the values in d"
   ]
  },
  {
   "cell_type": "code",
   "execution_count": 26,
   "id": "4641136c",
   "metadata": {
    "id": "Pyhh6r0pjNTN",
    "outputId": "8d13b380-1e1f-418c-84e6-ac0638a056e2"
   },
   "outputs": [
    {
     "data": {
      "text/plain": [
       "dict_values(['amir', 'cat', 2, [23, 32, 12], 'Kr$na', 'Still here', 'hip-hop'])"
      ]
     },
     "execution_count": 26,
     "metadata": {},
     "output_type": "execute_result"
    }
   ],
   "source": [
    "d.values()"
   ]
  },
  {
   "cell_type": "markdown",
   "id": "82edf0f4",
   "metadata": {
    "id": "XSoe8GWmjNTN"
   },
   "source": [
    "Iterate over d, and print each key, value pair as this - (actor ----> amir)"
   ]
  },
  {
   "cell_type": "code",
   "execution_count": 33,
   "id": "b19f364b",
   "metadata": {
    "id": "O0iW9kiqjNTO",
    "outputId": "d9ab5c07-3de4-4939-dd9e-d6ff75c9aa07"
   },
   "outputs": [
    {
     "name": "stdout",
     "output_type": "stream",
     "text": [
      "actor ----> amir\n",
      "animal ----> cat\n",
      "earth ----> 2\n",
      "list ----> [23, 32, 12]\n",
      "singer ----> Kr$na\n",
      "album ----> Still here\n",
      "genre ----> hip-hop\n"
     ]
    }
   ],
   "source": [
    "d\n",
    "j=0\n",
    "for i in d:\n",
    "    print(i,\"---->\",d.get(i))\n",
    "    j=j+1"
   ]
  },
  {
   "cell_type": "markdown",
   "id": "ace59d7f",
   "metadata": {
    "id": "Hhzm-EIsjNTO"
   },
   "source": [
    "count the number of occurences of charachters in string named \"sent\" using dictionary and print the same.\n"
   ]
  },
  {
   "cell_type": "markdown",
   "id": "1b35c885",
   "metadata": {},
   "source": [
    "## ?????"
   ]
  },
  {
   "cell_type": "code",
   "execution_count": 39,
   "id": "fe7689fe",
   "metadata": {
    "id": "IvRlvUAljNTP",
    "outputId": "40f08e65-b884-4b00-aaf4-2cacd1083752"
   },
   "outputs": [],
   "source": [
    "alphabet = 'sent'\n",
    "k=len(alphabet)\n",
    "l=[item for item in range (k)]"
   ]
  },
  {
   "cell_type": "code",
   "execution_count": 42,
   "id": "0d68a664",
   "metadata": {},
   "outputs": [
    {
     "data": {
      "text/plain": [
       "{'s': 0, 'e': 1, 'n': 2, 't': 3}"
      ]
     },
     "execution_count": 42,
     "metadata": {},
     "output_type": "execute_result"
    }
   ],
   "source": [
    "alphabetDict = dict()\n",
    "i=0\n",
    "for char in alphabet:\n",
    "    alphabetDict[char] = l[i]\n",
    "    i=i+1\n",
    "alphabetDict"
   ]
  },
  {
   "cell_type": "code",
   "execution_count": null,
   "id": "8eccb720",
   "metadata": {},
   "outputs": [],
   "source": []
  }
 ],
 "metadata": {
  "colab": {
   "collapsed_sections": [],
   "provenance": []
  },
  "kernelspec": {
   "display_name": "Python 3 (ipykernel)",
   "language": "python",
   "name": "python3"
  },
  "language_info": {
   "codemirror_mode": {
    "name": "ipython",
    "version": 3
   },
   "file_extension": ".py",
   "mimetype": "text/x-python",
   "name": "python",
   "nbconvert_exporter": "python",
   "pygments_lexer": "ipython3",
   "version": "3.9.7"
  }
 },
 "nbformat": 4,
 "nbformat_minor": 5
}
